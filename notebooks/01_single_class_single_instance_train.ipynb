{
 "cells": [
  {
   "cell_type": "code",
   "execution_count": null,
   "metadata": {},
   "outputs": [
    {
     "name": "stdout",
     "output_type": "stream",
     "text": [
      "The autoreload extension is already loaded. To reload it, use:\n",
      "  %reload_ext autoreload\n"
     ]
    }
   ],
   "source": [
    "import torch\n",
    "import torchvision\n",
    "from torchvision.transforms import v2 as T\n",
    "from torchsummary import summary\n",
    "\n",
    "# paths\n",
    "import os\n",
    "import sys\n",
    "\n",
    "# set paths\n",
    "sys.path.append(os.path.abspath(os.path.join(os.getcwd(), '..')))\n",
    "\n",
    "# my imports\n",
    "from datasets.voc_subset import VOCSubset\n",
    "from utils import bbox_utils\n",
    "from models.models import SoSiDetectionModel\n",
    "\n",
    "# the lifesaver\n",
    "%load_ext autoreload\n",
    "%autoreload 2"
   ]
  },
  {
   "cell_type": "code",
   "execution_count": 71,
   "metadata": {},
   "outputs": [],
   "source": [
    "# torch setup\n",
    "torch.manual_seed = 42\n",
    "device = torch.device('cuda') if torch.cuda.is_available() else torch.device('cpu')"
   ]
  },
  {
   "cell_type": "markdown",
   "metadata": {},
   "source": [
    "## ID calculation\n",
    "Select backbone based on ID sum:"
   ]
  },
  {
   "cell_type": "code",
   "execution_count": 41,
   "metadata": {},
   "outputs": [
    {
     "name": "stdout",
     "output_type": "stream",
     "text": [
      "ID digits sum is: 7, selecting MobilNet V3.\n"
     ]
    }
   ],
   "source": [
    "id1 = '308564293'\n",
    "id2 = '040830861'\n",
    "\n",
    "id_sum = sum(int(digit) for digit in (id1 + id2))\n",
    "id_sum = sum(int(digit) for digit in str(id_sum))\n",
    "print(f'ID digits sum is: {id_sum}, selecting MobilNet V3.')"
   ]
  },
  {
   "cell_type": "markdown",
   "metadata": {},
   "source": [
    "## P1 - Single Class, Single Instance\n",
    "In this part we will train a detector for a single class, single instance per image.\n",
    "\n",
    "### Model Construction\n",
    "We begin by loading the single object, single instance (sosi) detection model, with the MobilNet V3 Backbone."
   ]
  },
  {
   "cell_type": "code",
   "execution_count": null,
   "metadata": {},
   "outputs": [],
   "source": []
  },
  {
   "cell_type": "markdown",
   "metadata": {},
   "source": [
    "### Dataset\n",
    "Next, we load the `subset` dataset with the single class `cat` and split for train and validation. Since we have only ~1000 images we won't split into 3 (test)."
   ]
  },
  {
   "cell_type": "code",
   "execution_count": 35,
   "metadata": {},
   "outputs": [],
   "source": [
    "# define the selected class\n",
    "selected_class_name = \"cat\"\n",
    "\n",
    "# load the file containing the indices of images with the selected class\n",
    "indices_file = os.path.join(\"..\",\"datasets\",\"indices\", f\"VOC_{selected_class_name}_selected_indices.pth\")\n",
    "indices_list = torch.load(indices_file)"
   ]
  },
  {
   "cell_type": "markdown",
   "metadata": {},
   "source": [
    "#### Transforms\n",
    "Before bulding the dataset we need to define transformations on the data.\n",
    "\n",
    "We will take the basic data transformations from the backbone of the model, and add a few augmentations later."
   ]
  },
  {
   "cell_type": "code",
   "execution_count": null,
   "metadata": {},
   "outputs": [],
   "source": [
    "# TODO finish\n",
    "def get_transform(train):\n",
    "    transforms = []\n",
    "    if train:\n",
    "        transforms.append(T.RandomHorizontalFlip(0.5))\n",
    "    transforms.append(T.ToDtype(torch.float, scale=True))\n",
    "    transforms.append(T.ToPureTensor())\n",
    "    return T.Compose(transforms)"
   ]
  },
  {
   "cell_type": "markdown",
   "metadata": {},
   "source": [
    "### Dataset and Dataloader\n",
    "Build two datasets, each with the appropriate transformations, split and build dataloader."
   ]
  },
  {
   "cell_type": "code",
   "execution_count": null,
   "metadata": {},
   "outputs": [],
   "source": [
    "# training dataset\n",
    "trainDataset = VOCSubset(\n",
    "    indices_list = indices_list, \n",
    "    selected_class = selected_class_name,\n",
    "    single_object = True,\n",
    "    transform = torchvision.transforms.ToTensor()\n",
    ")\n",
    "\n",
    "# validation dataset\n",
    "valDataset = VOCSubset(\n",
    "    indices_list = indices_list, \n",
    "    selected_class = selected_class_name,\n",
    "    single_object = True,\n",
    "    transform = torchvision.transforms.ToTensor()\n",
    ")\n",
    "\n",
    "# split the indices to a train-valid ratio randomly\n",
    "split_ratio = 0.7\n",
    "idx = torch.randperm(len(trainDataset)).tolist()\n",
    "train_size = int(split_ratio * len(idx))\n",
    "\n",
    "# apply the split to the datasets\n",
    "train_dataset = torch.utils.data.Subset(trainDataset, idx[:train_size])\n",
    "val_dataset = torch.utils.data.Subset(valDataset, idx[train_size:])"
   ]
  },
  {
   "cell_type": "markdown",
   "metadata": {},
   "source": [
    "Build data loaders:"
   ]
  },
  {
   "cell_type": "code",
   "execution_count": null,
   "metadata": {},
   "outputs": [],
   "source": [
    "train_dataloader = torch.utils.data.DataLoader(\n",
    "    train_dataset,\n",
    "    batch_size=2,\n",
    "    shuffle=True,\n",
    "    collate_fn=utils.collate_fn\n",
    ")\n",
    "\n",
    "val_dataloader= torch.utils.data.DataLoader(\n",
    "    val_dataset,\n",
    "    batch_size=1,\n",
    "    shuffle=False,\n",
    "    collate_fn=utils.collate_fn\n",
    ")"
   ]
  },
  {
   "cell_type": "markdown",
   "metadata": {},
   "source": []
  }
 ],
 "metadata": {
  "kernelspec": {
   "display_name": "custom_CatSemSeg",
   "language": "python",
   "name": "python3"
  },
  "language_info": {
   "codemirror_mode": {
    "name": "ipython",
    "version": 3
   },
   "file_extension": ".py",
   "mimetype": "text/x-python",
   "name": "python",
   "nbconvert_exporter": "python",
   "pygments_lexer": "ipython3",
   "version": "3.8.19"
  }
 },
 "nbformat": 4,
 "nbformat_minor": 2
}

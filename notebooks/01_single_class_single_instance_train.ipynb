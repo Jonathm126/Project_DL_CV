{
 "cells": [
  {
   "cell_type": "code",
   "execution_count": null,
   "metadata": {},
   "outputs": [
    {
     "ename": "ImportError",
     "evalue": "cannot import name 'bbox_utils' from 'utils' (unknown location)",
     "output_type": "error",
     "traceback": [
      "\u001b[1;31m---------------------------------------------------------------------------\u001b[0m",
      "\u001b[1;31mImportError\u001b[0m                               Traceback (most recent call last)",
      "Cell \u001b[1;32mIn[2], line 15\u001b[0m\n\u001b[0;32m     13\u001b[0m \u001b[38;5;66;03m# my imports\u001b[39;00m\n\u001b[0;32m     14\u001b[0m \u001b[38;5;28;01mfrom\u001b[39;00m \u001b[38;5;21;01mdatasets\u001b[39;00m\u001b[38;5;21;01m.\u001b[39;00m\u001b[38;5;21;01mvoc_subset\u001b[39;00m \u001b[38;5;28;01mimport\u001b[39;00m VOCSubset\n\u001b[1;32m---> 15\u001b[0m \u001b[38;5;28;01mfrom\u001b[39;00m \u001b[38;5;21;01mutils\u001b[39;00m \u001b[38;5;28;01mimport\u001b[39;00m bbox_utils\n\u001b[0;32m     16\u001b[0m \u001b[38;5;28;01mfrom\u001b[39;00m \u001b[38;5;21;01mmodels\u001b[39;00m\u001b[38;5;21;01m.\u001b[39;00m\u001b[38;5;21;01mSoSi_detection\u001b[39;00m \u001b[38;5;28;01mimport\u001b[39;00m SoSiDetectionModel\n\u001b[0;32m     18\u001b[0m \u001b[38;5;66;03m# the lifesaver\u001b[39;00m\n",
      "\u001b[1;31mImportError\u001b[0m: cannot import name 'bbox_utils' from 'utils' (unknown location)"
     ]
    }
   ],
   "source": [
    "import torch\n",
    "import torchvision\n",
    "from torchvision.transforms import v2 as T\n",
    "from torchsummary import summary\n",
    "\n",
    "# paths\n",
    "import os\n",
    "import sys\n",
    "\n",
    "# set paths\n",
    "sys.path.append(os.path.abspath(os.path.join(os.getcwd(), '..')))\n",
    "\n",
    "# my imports\n",
    "from datasets.voc_subset import VOCSubset\n",
    "from utils import voc_utils\n",
    "from models.SoSi_detection import SoSiDetectionModel\n",
    "\n",
    "# the lifesaver\n",
    "%load_ext autoreload\n",
    "%autoreload 2"
   ]
  },
  {
   "cell_type": "code",
   "execution_count": null,
   "metadata": {},
   "outputs": [],
   "source": [
    "# torch setup\n",
    "torch.manual_seed = 42\n",
    "device = torch.device('cuda') if torch.cuda.is_available() else torch.device('cpu')"
   ]
  },
  {
   "cell_type": "markdown",
   "metadata": {},
   "source": [
    "## ID calculation\n",
    "Select backbone based on ID sum:"
   ]
  },
  {
   "cell_type": "code",
   "execution_count": null,
   "metadata": {},
   "outputs": [
    {
     "name": "stdout",
     "output_type": "stream",
     "text": [
      "ID digits sum is: 7, selecting MobilNet V3.\n"
     ]
    }
   ],
   "source": [
    "id1 = '308564293'\n",
    "id2 = '040830861'\n",
    "\n",
    "id_sum = sum(int(digit) for digit in (id1 + id2))\n",
    "id_sum = sum(int(digit) for digit in str(id_sum))\n",
    "print(f'ID digits sum is: {id_sum}, selecting MobilNet V3.')"
   ]
  },
  {
   "cell_type": "markdown",
   "metadata": {},
   "source": [
    "## P1 - Single Class, Single Instance\n",
    "In this part we will train a detector for a single class, single instance per image.\n",
    "\n",
    "### Model Construction\n",
    "We begin by loading the single object, single instance (sosi) detection model, with the MobilNet V3 Backbone."
   ]
  },
  {
   "cell_type": "code",
   "execution_count": 1,
   "metadata": {},
   "outputs": [
    {
     "ename": "NameError",
     "evalue": "name 'SoSiDetectionModel' is not defined",
     "output_type": "error",
     "traceback": [
      "\u001b[1;31m---------------------------------------------------------------------------\u001b[0m",
      "\u001b[1;31mNameError\u001b[0m                                 Traceback (most recent call last)",
      "Cell \u001b[1;32mIn[1], line 2\u001b[0m\n\u001b[0;32m      1\u001b[0m \u001b[38;5;66;03m# build SoSi Model and send to device\u001b[39;00m\n\u001b[1;32m----> 2\u001b[0m model \u001b[38;5;241m=\u001b[39m \u001b[43mSoSiDetectionModel\u001b[49m()\n\u001b[0;32m      3\u001b[0m model\u001b[38;5;241m.\u001b[39mto(device)\n\u001b[0;32m      4\u001b[0m \u001b[38;5;66;03m# print the summary\u001b[39;00m\n",
      "\u001b[1;31mNameError\u001b[0m: name 'SoSiDetectionModel' is not defined"
     ]
    }
   ],
   "source": [
    "# build SoSi Model and send to device\n",
    "model = SoSiDetectionModel()\n",
    "model.to(device)\n",
    "# print the summary\n",
    "summary(model, input_size = (1,3,224,224))"
   ]
  },
  {
   "cell_type": "markdown",
   "metadata": {},
   "source": [
    "### Dataset\n",
    "Next, we load the `subset` dataset with the single class `cat` and split for train and validation. Since we have only ~1000 images we won't split into 3 (test)."
   ]
  },
  {
   "cell_type": "code",
   "execution_count": 35,
   "metadata": {},
   "outputs": [],
   "source": [
    "# define the selected class\n",
    "selected_class_name = \"cat\"\n",
    "\n",
    "# load the file containing the indices of images with the selected class\n",
    "indices_file = os.path.join(\"..\",\"datasets\",\"indices\", f\"VOC_{selected_class_name}_selected_indices.pth\")\n",
    "indices_list = torch.load(indices_file)"
   ]
  },
  {
   "cell_type": "markdown",
   "metadata": {},
   "source": [
    "#### Transforms\n",
    "Before bulding the dataset we need to define transformations on the data.\n",
    "\n",
    "We will take the basic data transformations from the backbone of the model, and add a few augmentations later."
   ]
  },
  {
   "cell_type": "code",
   "execution_count": null,
   "metadata": {},
   "outputs": [],
   "source": [
    "# TODO finish\n",
    "def get_transform(train):\n",
    "    transforms = []\n",
    "    if train:\n",
    "        transforms.append(T.RandomHorizontalFlip(0.5))\n",
    "    transforms.append(T.ToDtype(torch.float, scale=True))\n",
    "    transforms.append(T.ToPureTensor())\n",
    "    return T.Compose(transforms)"
   ]
  },
  {
   "cell_type": "markdown",
   "metadata": {},
   "source": [
    "### Dataset and Dataloader\n",
    "Build two datasets, each with the appropriate transformations, split and build dataloader."
   ]
  },
  {
   "cell_type": "code",
   "execution_count": null,
   "metadata": {},
   "outputs": [],
   "source": [
    "# training dataset\n",
    "trainDataset = VOCSubset(\n",
    "    indices_list = indices_list, \n",
    "    selected_class = selected_class_name,\n",
    "    single_object = True,\n",
    "    transform = torchvision.transforms.ToTensor()\n",
    ")\n",
    "\n",
    "# validation dataset\n",
    "valDataset = VOCSubset(\n",
    "    indices_list = indices_list, \n",
    "    selected_class = selected_class_name,\n",
    "    single_object = True,\n",
    "    transform = torchvision.transforms.ToTensor()\n",
    ")\n",
    "\n",
    "# split the indices to a train-valid ratio randomly\n",
    "split_ratio = 0.7\n",
    "idx = torch.randperm(len(trainDataset)).tolist()\n",
    "train_size = int(split_ratio * len(idx))\n",
    "\n",
    "# apply the split to the datasets\n",
    "train_dataset = torch.utils.data.Subset(trainDataset, idx[:train_size])\n",
    "val_dataset = torch.utils.data.Subset(valDataset, idx[train_size:])"
   ]
  },
  {
   "cell_type": "markdown",
   "metadata": {},
   "source": [
    "Build data loaders:"
   ]
  },
  {
   "cell_type": "code",
   "execution_count": null,
   "metadata": {},
   "outputs": [],
   "source": [
    "train_dataloader = torch.utils.data.DataLoader(\n",
    "    train_dataset,\n",
    "    batch_size=2,\n",
    "    shuffle=True,\n",
    "    collate_fn=utils.collate_fn\n",
    ")\n",
    "\n",
    "val_dataloader= torch.utils.data.DataLoader(\n",
    "    val_dataset,\n",
    "    batch_size=1,\n",
    "    shuffle=False,\n",
    "    collate_fn=utils.collate_fn\n",
    ")"
   ]
  },
  {
   "cell_type": "markdown",
   "metadata": {},
   "source": []
  }
 ],
 "metadata": {
  "kernelspec": {
   "display_name": "custom_CatSemSeg",
   "language": "python",
   "name": "python3"
  },
  "language_info": {
   "codemirror_mode": {
    "name": "ipython",
    "version": 3
   },
   "file_extension": ".py",
   "mimetype": "text/x-python",
   "name": "python",
   "nbconvert_exporter": "python",
   "pygments_lexer": "ipython3",
   "version": "3.8.19"
  }
 },
 "nbformat": 4,
 "nbformat_minor": 2
}

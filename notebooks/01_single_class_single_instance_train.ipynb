{
 "cells": [
  {
   "cell_type": "code",
   "execution_count": 10,
   "metadata": {},
   "outputs": [
    {
     "name": "stdout",
     "output_type": "stream",
     "text": [
      "The autoreload extension is already loaded. To reload it, use:\n",
      "  %reload_ext autoreload\n"
     ]
    }
   ],
   "source": [
    "# torch\n",
    "import torch\n",
    "from torchvision.transforms import v2 as T\n",
    "from torchsummary import summary\n",
    "\n",
    "# others\n",
    "import random\n",
    "import matplotlib.pyplot as plt\n",
    "\n",
    "# paths\n",
    "import os\n",
    "import sys\n",
    "\n",
    "# set paths\n",
    "sys.path.append(os.path.abspath(os.path.join(os.getcwd(), '..')))\n",
    "\n",
    "# my imports\n",
    "from datasets.voc_subset import VOCSubset\n",
    "from models.SoSi_detection import SoSiDetectionModel\n",
    "from utils.plot_utils import plot_images_from_voc_dataset\n",
    "\n",
    "# the lifesaver\n",
    "%load_ext autoreload\n",
    "%autoreload 2"
   ]
  },
  {
   "cell_type": "code",
   "execution_count": 11,
   "metadata": {},
   "outputs": [],
   "source": [
    "# torch setup\n",
    "torch.manual_seed = 42\n",
    "device = torch.device('cuda') if torch.cuda.is_available() else torch.device('cpu')"
   ]
  },
  {
   "cell_type": "markdown",
   "metadata": {},
   "source": [
    "## ID calculation\n",
    "Select backbone based on ID sum:"
   ]
  },
  {
   "cell_type": "code",
   "execution_count": 12,
   "metadata": {},
   "outputs": [
    {
     "name": "stdout",
     "output_type": "stream",
     "text": [
      "ID digits sum is: 7, selecting MobilNet V3.\n"
     ]
    }
   ],
   "source": [
    "id1 = '308564293'\n",
    "id2 = '040830861'\n",
    "\n",
    "id_sum = sum(int(digit) for digit in (id1 + id2))\n",
    "id_sum = sum(int(digit) for digit in str(id_sum))\n",
    "print(f'ID digits sum is: {id_sum}, selecting MobilNet V3.')"
   ]
  },
  {
   "cell_type": "markdown",
   "metadata": {},
   "source": [
    "## P1 - Single Class, Single Instance\n",
    "In this part we will train a detector for a single class, single instance per image.\n",
    "\n",
    "### Model Construction\n",
    "We begin by loading the single object, single instance (sosi) detection model, with the MobilNet V3 Backbone."
   ]
  },
  {
   "cell_type": "code",
   "execution_count": 13,
   "metadata": {},
   "outputs": [
    {
     "name": "stdout",
     "output_type": "stream",
     "text": [
      "----------------------------------------------------------------\n",
      "        Layer (type)               Output Shape         Param #\n",
      "================================================================\n",
      "            Conv2d-1         [-1, 16, 112, 112]             432\n",
      "       BatchNorm2d-2         [-1, 16, 112, 112]              32\n",
      "         Hardswish-3         [-1, 16, 112, 112]               0\n",
      "            Conv2d-4         [-1, 16, 112, 112]             144\n",
      "       BatchNorm2d-5         [-1, 16, 112, 112]              32\n",
      "              ReLU-6         [-1, 16, 112, 112]               0\n",
      "            Conv2d-7         [-1, 16, 112, 112]             256\n",
      "       BatchNorm2d-8         [-1, 16, 112, 112]              32\n",
      "  InvertedResidual-9         [-1, 16, 112, 112]               0\n",
      "           Conv2d-10         [-1, 64, 112, 112]           1,024\n",
      "      BatchNorm2d-11         [-1, 64, 112, 112]             128\n",
      "             ReLU-12         [-1, 64, 112, 112]               0\n",
      "           Conv2d-13           [-1, 64, 56, 56]             576\n",
      "      BatchNorm2d-14           [-1, 64, 56, 56]             128\n",
      "             ReLU-15           [-1, 64, 56, 56]               0\n",
      "           Conv2d-16           [-1, 24, 56, 56]           1,536\n",
      "      BatchNorm2d-17           [-1, 24, 56, 56]              48\n",
      " InvertedResidual-18           [-1, 24, 56, 56]               0\n",
      "           Conv2d-19           [-1, 72, 56, 56]           1,728\n",
      "      BatchNorm2d-20           [-1, 72, 56, 56]             144\n",
      "             ReLU-21           [-1, 72, 56, 56]               0\n",
      "           Conv2d-22           [-1, 72, 56, 56]             648\n",
      "      BatchNorm2d-23           [-1, 72, 56, 56]             144\n",
      "             ReLU-24           [-1, 72, 56, 56]               0\n",
      "           Conv2d-25           [-1, 24, 56, 56]           1,728\n",
      "      BatchNorm2d-26           [-1, 24, 56, 56]              48\n",
      " InvertedResidual-27           [-1, 24, 56, 56]               0\n",
      "           Conv2d-28           [-1, 72, 56, 56]           1,728\n",
      "      BatchNorm2d-29           [-1, 72, 56, 56]             144\n",
      "             ReLU-30           [-1, 72, 56, 56]               0\n",
      "           Conv2d-31           [-1, 72, 28, 28]           1,800\n",
      "      BatchNorm2d-32           [-1, 72, 28, 28]             144\n",
      "             ReLU-33           [-1, 72, 28, 28]               0\n",
      "AdaptiveAvgPool2d-34             [-1, 72, 1, 1]               0\n",
      "           Conv2d-35             [-1, 24, 1, 1]           1,752\n",
      "             ReLU-36             [-1, 24, 1, 1]               0\n",
      "           Conv2d-37             [-1, 72, 1, 1]           1,800\n",
      "      Hardsigmoid-38             [-1, 72, 1, 1]               0\n",
      "SqueezeExcitation-39           [-1, 72, 28, 28]               0\n",
      "           Conv2d-40           [-1, 40, 28, 28]           2,880\n",
      "      BatchNorm2d-41           [-1, 40, 28, 28]              80\n",
      " InvertedResidual-42           [-1, 40, 28, 28]               0\n",
      "           Conv2d-43          [-1, 120, 28, 28]           4,800\n",
      "      BatchNorm2d-44          [-1, 120, 28, 28]             240\n",
      "             ReLU-45          [-1, 120, 28, 28]               0\n",
      "           Conv2d-46          [-1, 120, 28, 28]           3,000\n",
      "      BatchNorm2d-47          [-1, 120, 28, 28]             240\n",
      "             ReLU-48          [-1, 120, 28, 28]               0\n",
      "AdaptiveAvgPool2d-49            [-1, 120, 1, 1]               0\n",
      "           Conv2d-50             [-1, 32, 1, 1]           3,872\n",
      "             ReLU-51             [-1, 32, 1, 1]               0\n",
      "           Conv2d-52            [-1, 120, 1, 1]           3,960\n",
      "      Hardsigmoid-53            [-1, 120, 1, 1]               0\n",
      "SqueezeExcitation-54          [-1, 120, 28, 28]               0\n",
      "           Conv2d-55           [-1, 40, 28, 28]           4,800\n",
      "      BatchNorm2d-56           [-1, 40, 28, 28]              80\n",
      " InvertedResidual-57           [-1, 40, 28, 28]               0\n",
      "           Conv2d-58          [-1, 120, 28, 28]           4,800\n",
      "      BatchNorm2d-59          [-1, 120, 28, 28]             240\n",
      "             ReLU-60          [-1, 120, 28, 28]               0\n",
      "           Conv2d-61          [-1, 120, 28, 28]           3,000\n",
      "      BatchNorm2d-62          [-1, 120, 28, 28]             240\n",
      "             ReLU-63          [-1, 120, 28, 28]               0\n",
      "AdaptiveAvgPool2d-64            [-1, 120, 1, 1]               0\n",
      "           Conv2d-65             [-1, 32, 1, 1]           3,872\n",
      "             ReLU-66             [-1, 32, 1, 1]               0\n",
      "           Conv2d-67            [-1, 120, 1, 1]           3,960\n",
      "      Hardsigmoid-68            [-1, 120, 1, 1]               0\n",
      "SqueezeExcitation-69          [-1, 120, 28, 28]               0\n",
      "           Conv2d-70           [-1, 40, 28, 28]           4,800\n",
      "      BatchNorm2d-71           [-1, 40, 28, 28]              80\n",
      " InvertedResidual-72           [-1, 40, 28, 28]               0\n",
      "           Conv2d-73          [-1, 240, 28, 28]           9,600\n",
      "      BatchNorm2d-74          [-1, 240, 28, 28]             480\n",
      "        Hardswish-75          [-1, 240, 28, 28]               0\n",
      "           Conv2d-76          [-1, 240, 14, 14]           2,160\n",
      "      BatchNorm2d-77          [-1, 240, 14, 14]             480\n",
      "        Hardswish-78          [-1, 240, 14, 14]               0\n",
      "           Conv2d-79           [-1, 80, 14, 14]          19,200\n",
      "      BatchNorm2d-80           [-1, 80, 14, 14]             160\n",
      " InvertedResidual-81           [-1, 80, 14, 14]               0\n",
      "           Conv2d-82          [-1, 200, 14, 14]          16,000\n",
      "      BatchNorm2d-83          [-1, 200, 14, 14]             400\n",
      "        Hardswish-84          [-1, 200, 14, 14]               0\n",
      "           Conv2d-85          [-1, 200, 14, 14]           1,800\n",
      "      BatchNorm2d-86          [-1, 200, 14, 14]             400\n",
      "        Hardswish-87          [-1, 200, 14, 14]               0\n",
      "           Conv2d-88           [-1, 80, 14, 14]          16,000\n",
      "      BatchNorm2d-89           [-1, 80, 14, 14]             160\n",
      " InvertedResidual-90           [-1, 80, 14, 14]               0\n",
      "           Conv2d-91          [-1, 184, 14, 14]          14,720\n",
      "      BatchNorm2d-92          [-1, 184, 14, 14]             368\n",
      "        Hardswish-93          [-1, 184, 14, 14]               0\n",
      "           Conv2d-94          [-1, 184, 14, 14]           1,656\n",
      "      BatchNorm2d-95          [-1, 184, 14, 14]             368\n",
      "        Hardswish-96          [-1, 184, 14, 14]               0\n",
      "           Conv2d-97           [-1, 80, 14, 14]          14,720\n",
      "      BatchNorm2d-98           [-1, 80, 14, 14]             160\n",
      " InvertedResidual-99           [-1, 80, 14, 14]               0\n",
      "          Conv2d-100          [-1, 184, 14, 14]          14,720\n",
      "     BatchNorm2d-101          [-1, 184, 14, 14]             368\n",
      "       Hardswish-102          [-1, 184, 14, 14]               0\n",
      "          Conv2d-103          [-1, 184, 14, 14]           1,656\n",
      "     BatchNorm2d-104          [-1, 184, 14, 14]             368\n",
      "       Hardswish-105          [-1, 184, 14, 14]               0\n",
      "          Conv2d-106           [-1, 80, 14, 14]          14,720\n",
      "     BatchNorm2d-107           [-1, 80, 14, 14]             160\n",
      "InvertedResidual-108           [-1, 80, 14, 14]               0\n",
      "          Conv2d-109          [-1, 480, 14, 14]          38,400\n",
      "     BatchNorm2d-110          [-1, 480, 14, 14]             960\n",
      "       Hardswish-111          [-1, 480, 14, 14]               0\n",
      "          Conv2d-112          [-1, 480, 14, 14]           4,320\n",
      "     BatchNorm2d-113          [-1, 480, 14, 14]             960\n",
      "       Hardswish-114          [-1, 480, 14, 14]               0\n",
      "AdaptiveAvgPool2d-115            [-1, 480, 1, 1]               0\n",
      "          Conv2d-116            [-1, 120, 1, 1]          57,720\n",
      "            ReLU-117            [-1, 120, 1, 1]               0\n",
      "          Conv2d-118            [-1, 480, 1, 1]          58,080\n",
      "     Hardsigmoid-119            [-1, 480, 1, 1]               0\n",
      "SqueezeExcitation-120          [-1, 480, 14, 14]               0\n",
      "          Conv2d-121          [-1, 112, 14, 14]          53,760\n",
      "     BatchNorm2d-122          [-1, 112, 14, 14]             224\n",
      "InvertedResidual-123          [-1, 112, 14, 14]               0\n",
      "          Conv2d-124          [-1, 672, 14, 14]          75,264\n",
      "     BatchNorm2d-125          [-1, 672, 14, 14]           1,344\n",
      "       Hardswish-126          [-1, 672, 14, 14]               0\n",
      "          Conv2d-127          [-1, 672, 14, 14]           6,048\n",
      "     BatchNorm2d-128          [-1, 672, 14, 14]           1,344\n",
      "       Hardswish-129          [-1, 672, 14, 14]               0\n",
      "AdaptiveAvgPool2d-130            [-1, 672, 1, 1]               0\n",
      "          Conv2d-131            [-1, 168, 1, 1]         113,064\n",
      "            ReLU-132            [-1, 168, 1, 1]               0\n",
      "          Conv2d-133            [-1, 672, 1, 1]         113,568\n",
      "     Hardsigmoid-134            [-1, 672, 1, 1]               0\n",
      "SqueezeExcitation-135          [-1, 672, 14, 14]               0\n",
      "          Conv2d-136          [-1, 112, 14, 14]          75,264\n",
      "     BatchNorm2d-137          [-1, 112, 14, 14]             224\n",
      "InvertedResidual-138          [-1, 112, 14, 14]               0\n",
      "          Conv2d-139          [-1, 672, 14, 14]          75,264\n",
      "     BatchNorm2d-140          [-1, 672, 14, 14]           1,344\n",
      "       Hardswish-141          [-1, 672, 14, 14]               0\n",
      "          Conv2d-142            [-1, 672, 7, 7]          16,800\n",
      "     BatchNorm2d-143            [-1, 672, 7, 7]           1,344\n",
      "       Hardswish-144            [-1, 672, 7, 7]               0\n",
      "AdaptiveAvgPool2d-145            [-1, 672, 1, 1]               0\n",
      "          Conv2d-146            [-1, 168, 1, 1]         113,064\n",
      "            ReLU-147            [-1, 168, 1, 1]               0\n",
      "          Conv2d-148            [-1, 672, 1, 1]         113,568\n",
      "     Hardsigmoid-149            [-1, 672, 1, 1]               0\n",
      "SqueezeExcitation-150            [-1, 672, 7, 7]               0\n",
      "          Conv2d-151            [-1, 160, 7, 7]         107,520\n",
      "     BatchNorm2d-152            [-1, 160, 7, 7]             320\n",
      "InvertedResidual-153            [-1, 160, 7, 7]               0\n",
      "          Conv2d-154            [-1, 960, 7, 7]         153,600\n",
      "     BatchNorm2d-155            [-1, 960, 7, 7]           1,920\n",
      "       Hardswish-156            [-1, 960, 7, 7]               0\n",
      "          Conv2d-157            [-1, 960, 7, 7]          24,000\n",
      "     BatchNorm2d-158            [-1, 960, 7, 7]           1,920\n",
      "       Hardswish-159            [-1, 960, 7, 7]               0\n",
      "AdaptiveAvgPool2d-160            [-1, 960, 1, 1]               0\n",
      "          Conv2d-161            [-1, 240, 1, 1]         230,640\n",
      "            ReLU-162            [-1, 240, 1, 1]               0\n",
      "          Conv2d-163            [-1, 960, 1, 1]         231,360\n",
      "     Hardsigmoid-164            [-1, 960, 1, 1]               0\n",
      "SqueezeExcitation-165            [-1, 960, 7, 7]               0\n",
      "          Conv2d-166            [-1, 160, 7, 7]         153,600\n",
      "     BatchNorm2d-167            [-1, 160, 7, 7]             320\n",
      "InvertedResidual-168            [-1, 160, 7, 7]               0\n",
      "          Conv2d-169            [-1, 960, 7, 7]         153,600\n",
      "     BatchNorm2d-170            [-1, 960, 7, 7]           1,920\n",
      "       Hardswish-171            [-1, 960, 7, 7]               0\n",
      "          Conv2d-172            [-1, 960, 7, 7]          24,000\n",
      "     BatchNorm2d-173            [-1, 960, 7, 7]           1,920\n",
      "       Hardswish-174            [-1, 960, 7, 7]               0\n",
      "AdaptiveAvgPool2d-175            [-1, 960, 1, 1]               0\n",
      "          Conv2d-176            [-1, 240, 1, 1]         230,640\n",
      "            ReLU-177            [-1, 240, 1, 1]               0\n",
      "          Conv2d-178            [-1, 960, 1, 1]         231,360\n",
      "     Hardsigmoid-179            [-1, 960, 1, 1]               0\n",
      "SqueezeExcitation-180            [-1, 960, 7, 7]               0\n",
      "          Conv2d-181            [-1, 160, 7, 7]         153,600\n",
      "     BatchNorm2d-182            [-1, 160, 7, 7]             320\n",
      "InvertedResidual-183            [-1, 160, 7, 7]               0\n",
      "          Conv2d-184            [-1, 960, 7, 7]         153,600\n",
      "     BatchNorm2d-185            [-1, 960, 7, 7]           1,920\n",
      "       Hardswish-186            [-1, 960, 7, 7]               0\n",
      "          Conv2d-187             [-1, 64, 7, 7]         553,024\n",
      "            ReLU-188             [-1, 64, 7, 7]               0\n",
      "AdaptiveAvgPool2d-189             [-1, 64, 1, 1]               0\n",
      "         Flatten-190                   [-1, 64]               0\n",
      "          Linear-191                    [-1, 4]             260\n",
      "          Linear-192                    [-1, 1]              65\n",
      "================================================================\n",
      "Total params: 3,525,301\n",
      "Trainable params: 3,525,301\n",
      "Non-trainable params: 0\n",
      "----------------------------------------------------------------\n",
      "Input size (MB): 0.57\n",
      "Forward/backward pass size (MB): 105.42\n",
      "Params size (MB): 13.45\n",
      "Estimated Total Size (MB): 119.44\n",
      "----------------------------------------------------------------\n"
     ]
    }
   ],
   "source": [
    "# build SoSi Model and send to device\n",
    "model = SoSiDetectionModel()\n",
    "model.to(device)\n",
    "# print the summary\n",
    "summary(model, input_size = (3,224,224))"
   ]
  },
  {
   "cell_type": "markdown",
   "metadata": {},
   "source": [
    "### Dataset\n",
    "Next, we load the `subset` dataset with the single class `cat` and split for train and validation. Since we have only ~1000 images we won't split into 3 (test)."
   ]
  },
  {
   "cell_type": "code",
   "execution_count": 14,
   "metadata": {},
   "outputs": [],
   "source": [
    "# define the selected class\n",
    "selected_class_name = \"cat\"\n",
    "\n",
    "# load the file containing the indices of images with the selected class\n",
    "indices_file = os.path.join(\"..\",\"datasets\",\"indices\", f\"VOC_{selected_class_name}_selected_indices.pth\")\n",
    "class_idx = torch.load(indices_file)"
   ]
  },
  {
   "cell_type": "markdown",
   "metadata": {},
   "source": [
    "##### Dataset augmentation\n",
    "We have ~1084 instances of the selected class `cat`. To better train the model, we would augment them with additional `k` times the dataset length of random images that are not from this class, to add some negative examples."
   ]
  },
  {
   "cell_type": "code",
   "execution_count": 15,
   "metadata": {},
   "outputs": [
    {
     "name": "stdout",
     "output_type": "stream",
     "text": [
      "Total of 3252 samples, of which 1084 contain the selected class cat.\n"
     ]
    }
   ],
   "source": [
    "k = 2\n",
    "available_idx = set(range(17125)) - set(class_idx)\n",
    "aug_idx = random.sample(available_idx, min(k * len(class_idx), len(available_idx))) + class_idx\n",
    "print(f'Total of {len(aug_idx)} samples, of which {len(class_idx)} contain the selected class {selected_class_name}.')"
   ]
  },
  {
   "cell_type": "markdown",
   "metadata": {},
   "source": [
    "#### Transforms\n",
    "Before bulding the dataset we need to define transformations on the data using `get_trainsform`. \n",
    "\n",
    "This function has two modes: train = `True` for training and `False` for validation and inference. In train mode, we will add additional agumentations to enhance the training robustness. \n",
    "\n",
    "In inference \\ validation, only the basic data transformations from the model backbone defaults are executed."
   ]
  },
  {
   "cell_type": "code",
   "execution_count": 16,
   "metadata": {},
   "outputs": [],
   "source": [
    "def get_transform(train, backbone_transforms):\n",
    "    transforms = []    \n",
    "    # standard transforms - resizing and center cropping for 1:1 aspect ratio and 224 size\n",
    "    transforms.append(T.Resize(size = backbone_transforms.resize_size, interpolation = backbone_transforms.interpolation))\n",
    "    transforms.append(T.CenterCrop(size=backbone_transforms.crop_size))\n",
    "    \n",
    "    # if training mode, add flips and jitters\n",
    "    if train:\n",
    "        transforms.append(T.RandomHorizontalFlip(0.5))\n",
    "        transforms.append(T.ColorJitter(brightness=0.2, contrast=0.2, saturation=0.2, hue=0.1))\n",
    "    \n",
    "    # standard transforms - normalizing\n",
    "    transforms.append(T.ToImage())\n",
    "    transforms.append(T.ToDtype(torch.float32, scale=True)) # scale to 0-1\n",
    "    transforms.append(T.Normalize(mean = backbone_transforms.mean, std = backbone_transforms.std))\n",
    "    \n",
    "    return T.Compose(transforms)"
   ]
  },
  {
   "cell_type": "markdown",
   "metadata": {},
   "source": [
    "### Datasets\n",
    "Build two datasets, each with the appropriate transformations, split and build dataloader."
   ]
  },
  {
   "cell_type": "code",
   "execution_count": 17,
   "metadata": {},
   "outputs": [
    {
     "name": "stdout",
     "output_type": "stream",
     "text": [
      "Train dataset of length 2276 and val dataset of length 976.\n"
     ]
    }
   ],
   "source": [
    "# training dataset\n",
    "train_dataset = VOCSubset(\n",
    "    indices_list = aug_idx, \n",
    "    selected_class = selected_class_name,\n",
    "    single_instance = True,\n",
    "    transforms = get_transform(train = True, backbone_transforms = model.backbone_transforms())\n",
    ")\n",
    "\n",
    "# validation dataset\n",
    "val_dataset = VOCSubset(\n",
    "    indices_list = aug_idx, \n",
    "    selected_class = selected_class_name,\n",
    "    single_instance = True,\n",
    "    transforms = get_transform(train = False, backbone_transforms = model.backbone_transforms())\n",
    ")\n",
    "\n",
    "# split the indices to a train-valid ratio randomly\n",
    "split_ratio = 0.7\n",
    "idx = torch.randperm(len(train_dataset)).tolist()\n",
    "train_size = int(split_ratio * len(idx))\n",
    "\n",
    "# apply the split to the datasets\n",
    "train_dataset = torch.utils.data.Subset(train_dataset, idx[:train_size])\n",
    "val_dataset = torch.utils.data.Subset(val_dataset, idx[train_size:])\n",
    "\n",
    "print(f'Train dataset of length {len(train_dataset)} and val dataset of length {len(val_dataset)}.')"
   ]
  },
  {
   "cell_type": "markdown",
   "metadata": {},
   "source": [
    "#### Test Dataset\n",
    "We would like to see that the dataset includes these samples and bounding boxes."
   ]
  },
  {
   "cell_type": "code",
   "execution_count": 27,
   "metadata": {},
   "outputs": [
    {
     "ename": "AttributeError",
     "evalue": "'list' object has no attribute 'squeeze'",
     "output_type": "error",
     "traceback": [
      "\u001b[1;31m---------------------------------------------------------------------------\u001b[0m",
      "\u001b[1;31mAttributeError\u001b[0m                            Traceback (most recent call last)",
      "Cell \u001b[1;32mIn[27], line 1\u001b[0m\n\u001b[1;32m----> 1\u001b[0m \u001b[43mplot_images_from_voc_dataset\u001b[49m\u001b[43m(\u001b[49m\u001b[43mtrain_dataset\u001b[49m\u001b[43m,\u001b[49m\u001b[43m \u001b[49m\u001b[43mnum_images\u001b[49m\u001b[38;5;241;43m=\u001b[39;49m\u001b[38;5;241;43m8\u001b[39;49m\u001b[43m,\u001b[49m\u001b[43m \u001b[49m\u001b[43mtitle\u001b[49m\u001b[38;5;241;43m=\u001b[39;49m\u001b[38;5;124;43m\"\u001b[39;49m\u001b[38;5;124;43mTrain Dataset Samples\u001b[39;49m\u001b[38;5;124;43m\"\u001b[39;49m\u001b[43m)\u001b[49m\n\u001b[0;32m      2\u001b[0m plot_images_from_voc_dataset(val_dataset, num_images\u001b[38;5;241m=\u001b[39m\u001b[38;5;241m8\u001b[39m, title\u001b[38;5;241m=\u001b[39m\u001b[38;5;124m\"\u001b[39m\u001b[38;5;124mValidation Dataset Samples\u001b[39m\u001b[38;5;124m\"\u001b[39m)\n",
      "File \u001b[1;32mg:\\My Drive\\Github\\Project_DL_CV\\utils\\plot_utils.py:28\u001b[0m, in \u001b[0;36mplot_images_from_voc_dataset\u001b[1;34m(dataset, num_images, title)\u001b[0m\n\u001b[0;32m     24\u001b[0m axes \u001b[38;5;241m=\u001b[39m axes\u001b[38;5;241m.\u001b[39mflatten()\n\u001b[0;32m     26\u001b[0m \u001b[38;5;28;01mfor\u001b[39;00m i, idx \u001b[38;5;129;01min\u001b[39;00m \u001b[38;5;28menumerate\u001b[39m(random_indices):\n\u001b[0;32m     27\u001b[0m     \u001b[38;5;66;03m# Get image and target\u001b[39;00m\n\u001b[1;32m---> 28\u001b[0m     image, torch_target \u001b[38;5;241m=\u001b[39m \u001b[43mdataset\u001b[49m\u001b[43m[\u001b[49m\u001b[43midx\u001b[49m\u001b[43m]\u001b[49m\n\u001b[0;32m     30\u001b[0m     \u001b[38;5;66;03m# Convert image and draw bounding boxes\u001b[39;00m\n\u001b[0;32m     31\u001b[0m     image_with_boxes_PIL \u001b[38;5;241m=\u001b[39m voc_img_bbox_plot(image, torch_target)\n",
      "File \u001b[1;32mc:\\Users\\jonathan\\.conda\\envs\\custom_CatSemSeg\\lib\\site-packages\\torch\\utils\\data\\dataset.py:391\u001b[0m, in \u001b[0;36mSubset.__getitem__\u001b[1;34m(self, idx)\u001b[0m\n\u001b[0;32m    389\u001b[0m \u001b[38;5;28;01mif\u001b[39;00m \u001b[38;5;28misinstance\u001b[39m(idx, \u001b[38;5;28mlist\u001b[39m):\n\u001b[0;32m    390\u001b[0m     \u001b[38;5;28;01mreturn\u001b[39;00m \u001b[38;5;28mself\u001b[39m\u001b[38;5;241m.\u001b[39mdataset[[\u001b[38;5;28mself\u001b[39m\u001b[38;5;241m.\u001b[39mindices[i] \u001b[38;5;28;01mfor\u001b[39;00m i \u001b[38;5;129;01min\u001b[39;00m idx]]\n\u001b[1;32m--> 391\u001b[0m \u001b[38;5;28;01mreturn\u001b[39;00m \u001b[38;5;28;43mself\u001b[39;49m\u001b[38;5;241;43m.\u001b[39;49m\u001b[43mdataset\u001b[49m\u001b[43m[\u001b[49m\u001b[38;5;28;43mself\u001b[39;49m\u001b[38;5;241;43m.\u001b[39;49m\u001b[43mindices\u001b[49m\u001b[43m[\u001b[49m\u001b[43midx\u001b[49m\u001b[43m]\u001b[49m\u001b[43m]\u001b[49m\n",
      "File \u001b[1;32mg:\\My Drive\\Github\\Project_DL_CV\\datasets\\voc_subset.py:46\u001b[0m, in \u001b[0;36mVOCSubset.__getitem__\u001b[1;34m(self, idx)\u001b[0m\n\u001b[0;32m     44\u001b[0m image, target \u001b[38;5;241m=\u001b[39m \u001b[38;5;28msuper\u001b[39m()\u001b[38;5;241m.\u001b[39m\u001b[38;5;21m__getitem__\u001b[39m(image_idx)  \n\u001b[0;32m     45\u001b[0m \u001b[38;5;66;03m# convert the object to torch notation\u001b[39;00m\n\u001b[1;32m---> 46\u001b[0m torch_target \u001b[38;5;241m=\u001b[39m \u001b[43mvoc_utils\u001b[49m\u001b[38;5;241;43m.\u001b[39;49m\u001b[43mparse_target_voc_torch\u001b[49m\u001b[43m(\u001b[49m\u001b[43mimage\u001b[49m\u001b[43m,\u001b[49m\u001b[43m \u001b[49m\u001b[43mtarget\u001b[49m\u001b[43m)\u001b[49m\n\u001b[0;32m     47\u001b[0m \u001b[38;5;66;03m# if the target should only contain a single object (instance) per frame\u001b[39;00m\n\u001b[0;32m     48\u001b[0m \u001b[38;5;28;01mif\u001b[39;00m \u001b[38;5;28mself\u001b[39m\u001b[38;5;241m.\u001b[39msingle_instance:\n",
      "File \u001b[1;32mg:\\My Drive\\Github\\Project_DL_CV\\utils\\voc_utils.py:55\u001b[0m, in \u001b[0;36mparse_target_voc_torch\u001b[1;34m(image, target)\u001b[0m\n\u001b[0;32m     52\u001b[0m     \u001b[38;5;66;03m# append the label (name)\u001b[39;00m\n\u001b[0;32m     53\u001b[0m     labels\u001b[38;5;241m.\u001b[39mappend(voc_class_to_idx[obj[\u001b[38;5;124m'\u001b[39m\u001b[38;5;124mname\u001b[39m\u001b[38;5;124m'\u001b[39m]])    \n\u001b[1;32m---> 55\u001b[0m torch_target[\u001b[38;5;124m'\u001b[39m\u001b[38;5;124mboxes\u001b[39m\u001b[38;5;124m'\u001b[39m] \u001b[38;5;241m=\u001b[39m torch\u001b[38;5;241m.\u001b[39mstack(\u001b[43mboxes\u001b[49m\u001b[38;5;241;43m.\u001b[39;49m\u001b[43msqueeze\u001b[49m(\u001b[38;5;241m1\u001b[39m))  \u001b[38;5;66;03m# shape: (N, 4)\u001b[39;00m\n\u001b[0;32m     56\u001b[0m torch_target[\u001b[38;5;124m'\u001b[39m\u001b[38;5;124mlabels\u001b[39m\u001b[38;5;124m'\u001b[39m] \u001b[38;5;241m=\u001b[39m torch\u001b[38;5;241m.\u001b[39mtensor(labels, dtype\u001b[38;5;241m=\u001b[39mtorch\u001b[38;5;241m.\u001b[39mint64)  \u001b[38;5;66;03m# shape: (N,)\u001b[39;00m\n\u001b[0;32m     58\u001b[0m \u001b[38;5;28;01mreturn\u001b[39;00m torch_target\n",
      "\u001b[1;31mAttributeError\u001b[0m: 'list' object has no attribute 'squeeze'"
     ]
    },
    {
     "data": {
      "image/png": "[encoded data removed]",
      "text/plain": [
       "<Figure size 1500x800 with 8 Axes>"
      ]
     },
     "metadata": {},
     "output_type": "display_data"
    }
   ],
   "source": [
    "plot_images_from_voc_dataset(train_dataset, num_images=8, title=\"Train Dataset Samples\")\n",
    "plot_images_from_voc_dataset(val_dataset, num_images=8, title=\"Validation Dataset Samples\")"
   ]
  },
  {
   "cell_type": "markdown",
   "metadata": {},
   "source": [
    "#### Build data loaders:"
   ]
  },
  {
   "cell_type": "code",
   "execution_count": null,
   "metadata": {},
   "outputs": [],
   "source": [
    "train_dataloader = torch.utils.data.DataLoader(\n",
    "    train_dataset,\n",
    "    batch_size=2,\n",
    "    shuffle=True,\n",
    "    collate_fn=utils.collate_fn\n",
    ")\n",
    "\n",
    "val_dataloader= torch.utils.data.DataLoader(\n",
    "    val_dataset,\n",
    "    batch_size=1,\n",
    "    shuffle=False,\n",
    "    collate_fn=utils.collate_fn\n",
    ")"
   ]
  },
  {
   "cell_type": "markdown",
   "metadata": {},
   "source": []
  }
 ],
 "metadata": {
  "kernelspec": {
   "display_name": "Python 3",
   "language": "python",
   "name": "python3"
  },
  "language_info": {
   "codemirror_mode": {
    "name": "ipython",
    "version": 3
   },
   "file_extension": ".py",
   "mimetype": "text/x-python",
   "name": "python",
   "nbconvert_exporter": "python",
   "pygments_lexer": "ipython3",
   "version": "3.8.19"
  }
 },
 "nbformat": 4,
 "nbformat_minor": 2
}

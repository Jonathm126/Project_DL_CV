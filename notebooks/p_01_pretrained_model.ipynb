{
 "cells": [
  {
   "cell_type": "code",
   "execution_count": 8,
   "metadata": {},
   "outputs": [
    {
     "name": "stdout",
     "output_type": "stream",
     "text": [
      "Dataset path: /Users/fouadaz/LearningFromUniversity/Learning/IntroImageProcessing/final_vc_nn_project/vc_lastCodeToAdopt/Project_DL_CV/datasets\n"
     ]
    }
   ],
   "source": [
    "import sys, os\n",
    "# Append the datasets folder to the Python path (adjust relative path as needed)\n",
    "datasets_path = os.path.join(os.getcwd(), \"..\", \"datasets\")\n",
    "if datasets_path not in sys.path:\n",
    "    sys.path.append(datasets_path)\n",
    "from config import config\n",
    "\n",
    "# Now use the config; note the use of bracket notation since config is a dict\n",
    "path_to_voc = config[\"dataset_path\"]\n",
    "print(\"Dataset path:\", path_to_voc)"
   ]
  },
  {
   "cell_type": "code",
   "execution_count": null,
   "metadata": {},
   "outputs": [
    {
     "ename": "AttributeError",
     "evalue": "'dict' object has no attribute 'dataset_path'",
     "output_type": "error",
     "traceback": [
      "\u001b[0;31m---------------------------------------------------------------------------\u001b[0m",
      "\u001b[0;31mAttributeError\u001b[0m                            Traceback (most recent call last)",
      "Cell \u001b[0;32mIn[9], line 14\u001b[0m\n\u001b[1;32m     10\u001b[0m selected_class_name \u001b[38;5;241m=\u001b[39m \u001b[38;5;124m\"\u001b[39m\u001b[38;5;124mdog\u001b[39m\u001b[38;5;124m\"\u001b[39m\n\u001b[1;32m     12\u001b[0m \u001b[38;5;66;03m# 2) Paths and parameters\u001b[39;00m\n\u001b[1;32m     13\u001b[0m \u001b[38;5;66;03m# Now indices_file is stored within your actual dataset folder defined in config\u001b[39;00m\n\u001b[0;32m---> 14\u001b[0m indices_file \u001b[38;5;241m=\u001b[39m os\u001b[38;5;241m.\u001b[39mpath\u001b[38;5;241m.\u001b[39mjoin(\u001b[43mconfig\u001b[49m\u001b[38;5;241;43m.\u001b[39;49m\u001b[43mdataset_path\u001b[49m, \u001b[38;5;124mf\u001b[39m\u001b[38;5;124m\"\u001b[39m\u001b[38;5;124mvoc_\u001b[39m\u001b[38;5;132;01m{\u001b[39;00mselected_class_name\u001b[38;5;132;01m}\u001b[39;00m\u001b[38;5;124m_selected_indices.pth\u001b[39m\u001b[38;5;124m\"\u001b[39m)\n\u001b[1;32m     15\u001b[0m n_images \u001b[38;5;241m=\u001b[39m \u001b[38;5;241m5\u001b[39m  \u001b[38;5;66;03m# Number of images to display\u001b[39;00m\n\u001b[1;32m     17\u001b[0m \u001b[38;5;66;03m# 3) Load VOC dataset\u001b[39;00m\n",
      "\u001b[0;31mAttributeError\u001b[0m: 'dict' object has no attribute 'dataset_path'"
     ]
    }
   ],
   "source": [
    "\n",
    "\n",
    "import os\n",
    "import random\n",
    "import math\n",
    "import torch\n",
    "import matplotlib.pyplot as plt\n",
    "from torchvision import models, transforms\n",
    "from torchvision.datasets import VOCDetection\n",
    "\n",
    "# 1) Choose your target class name\n",
    "selected_class_name = \"dog\"\n",
    "\n",
    "# 2) Paths and parameters\n",
    "# Now indices_file is stored within your actual dataset folder defined in config\n",
    "indices_file = os.path.join(config[\"dataset_path\"], f\"voc_{selected_class_name}_selected_indices.pth\")\n",
    "n_images = 5  # Number of images to display\n",
    "\n",
    "# 3) Load VOC dataset\n",
    "dataset = VOCDetection(\n",
    "    root=path_to_voc,\n",
    "    year='2012',\n",
    "    image_set='trainval',\n",
    "    download=True\n",
    ")\n",
    "\n",
    "# 4) Load or build indices of images containing the desired class\n",
    "if os.path.exists(indices_file):\n",
    "    selected_indices = torch.load(indices_file)\n",
    "    print(f\"Loaded {len(selected_indices)} indices from file for class '{selected_class_name}'\")\n",
    "else:\n",
    "    # If the file does not exist, create it by scanning the dataset\n",
    "    selected_indices = []\n",
    "    for idx, (_, target) in enumerate(dataset):\n",
    "        annotations = target['annotation']['object']\n",
    "        object_names = [obj['name'] for obj in annotations]\n",
    "        if selected_class_name in object_names:\n",
    "            selected_indices.append(idx)\n",
    "    torch.save(selected_indices, indices_file)\n",
    "    print(f\"Saved {len(selected_indices)} indices of images containing class '{selected_class_name}'\")\n",
    "\n",
    "# 5) Randomly sample images from the pre-filtered indices\n",
    "random_indices = random.sample(selected_indices, n_images)\n",
    "\n",
    "# 6) Load pretrained MobileNet V3 and its transforms\n",
    "weights = models.MobileNet_V3_Large_Weights.IMAGENET1K_V2\n",
    "model = models.mobilenet_v3_large(weights=weights)\n",
    "model.eval()\n",
    "preprocess = weights.transforms()          # Proper image transforms\n",
    "imagenet_labels = weights.meta[\"categories\"]\n",
    "\n",
    "# 7) Prepare a figure for displaying images and predictions\n",
    "n_cols = 5\n",
    "n_rows = math.ceil(n_images / n_cols)\n",
    "fig, axes = plt.subplots(n_rows, n_cols, figsize=(5 * n_cols, 4 * n_rows))\n",
    "axes = axes.flatten()\n",
    "\n",
    "for i, idx in enumerate(random_indices):\n",
    "    # Get the VOC image & target\n",
    "    image, target = dataset[idx]\n",
    "\n",
    "    # Show the original image\n",
    "    axes[i].imshow(image)\n",
    "    axes[i].axis('off')\n",
    "    axes[i].set_title(f\"VOC Img #{idx}\")\n",
    "\n",
    "    # Preprocess for MobileNet V3\n",
    "    input_tensor = preprocess(image).unsqueeze(0)  # [1, 3, 224, 224]\n",
    "\n",
    "    # Infer with MobileNet V3\n",
    "    with torch.no_grad():\n",
    "        output = model(input_tensor)\n",
    "    probs = torch.softmax(output, dim=1)\n",
    "    top5_prob, top5_catid = torch.topk(probs, 5)\n",
    "\n",
    "    # Print predictions for demonstration\n",
    "    print(f\"\\n--- Inference for VOC Image #{idx} ---\")\n",
    "    for rank in range(5):\n",
    "        class_name = imagenet_labels[top5_catid[0, rank]]\n",
    "        confidence = top5_prob[0, rank].item()\n",
    "        print(f\"{rank + 1}) {class_name} ({confidence:.4f})\")\n",
    "\n",
    "# Clean up extra empty axes if fewer than the total grid\n",
    "for j in range(i + 1, len(axes)):\n",
    "    fig.delaxes(axes[j])\n",
    "\n",
    "plt.tight_layout()\n",
    "plt.show()"
   ]
  }
 ],
 "metadata": {
  "kernelspec": {
   "display_name": "custom_CatSemSeg",
   "language": "python",
   "name": "python3"
  },
  "language_info": {
   "codemirror_mode": {
    "name": "ipython",
    "version": 3
   },
   "file_extension": ".py",
   "mimetype": "text/x-python",
   "name": "python",
   "nbconvert_exporter": "python",
   "pygments_lexer": "ipython3",
   "version": "3.9.19"
  }
 },
 "nbformat": 4,
 "nbformat_minor": 2
}

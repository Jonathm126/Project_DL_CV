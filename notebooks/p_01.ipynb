{
 "cells": [
  {
   "cell_type": "markdown",
   "metadata": {},
   "source": [
    "## ID calculation\n",
    "Select backbone based on ID sum:"
   ]
  },
  {
   "cell_type": "code",
   "execution_count": 1,
   "metadata": {},
   "outputs": [
    {
     "name": "stdout",
     "output_type": "stream",
     "text": [
      "ID digits sum is: 7, selecting MobilNet V3.\n"
     ]
    }
   ],
   "source": [
    "id1 = '308564293'\n",
    "id2 = '040830861'\n",
    "\n",
    "id_sum = sum(int(digit) for digit in (id1 + id2))\n",
    "id_sum = sum(int(digit) for digit in str(id_sum))\n",
    "print(f'ID digits sum is: {id_sum}, selecting MobilNet V3.')"
   ]
  }
 ],
 "metadata": {
  "kernelspec": {
   "display_name": "custom_CatSemSeg",
   "language": "python",
   "name": "python3"
  },
  "language_info": {
   "codemirror_mode": {
    "name": "ipython",
    "version": 3
   },
   "file_extension": ".py",
   "mimetype": "text/x-python",
   "name": "python",
   "nbconvert_exporter": "python",
   "pygments_lexer": "ipython3",
   "version": "3.9.19"
  }
 },
 "nbformat": 4,
 "nbformat_minor": 2
}

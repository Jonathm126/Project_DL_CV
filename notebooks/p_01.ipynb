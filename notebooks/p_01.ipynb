{
 "cells": [
  {
   "cell_type": "markdown",
   "metadata": {},
   "source": [
    "## ID calculation\n",
    "Select backbone based on ID sum:"
   ]
  },
  {
   "cell_type": "code",
   "execution_count": null,
   "metadata": {},
   "outputs": [],
   "source": [
    "id1 = '308564293'\n",
    "id2 = '040830861'\n",
    "\n",
    "id_sum = sum(int(digit) for digit in (id1 + id2))\n",
    "id_sum = sum(int(digit) for digit in str(id_sum))\n",
    "print(f'ID digits sum is: {id_sum}, selecting MobilNet V3.')"
   ]
  }
 ],
 "metadata": {
  "kernelspec": {
   "display_name": "Python 3",
   "language": "python",
   "name": "python3"
  },
  "language_info": {
   "name": "python",
   "version": "3.8.19"
  }
 },
 "nbformat": 4,
 "nbformat_minor": 2
}

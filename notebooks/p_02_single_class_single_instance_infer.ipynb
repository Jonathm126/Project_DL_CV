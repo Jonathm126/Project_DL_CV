{
 "cells": [
  {
   "cell_type": "code",
   "execution_count": 1,
   "metadata": {},
   "outputs": [],
   "source": [
    "import torch\n",
    "from torchvision.io import read_video, write_video\n",
    "from torchvision.transforms import v2 as T\n",
    "\n",
    "# paths\n",
    "import os\n",
    "import sys\n",
    "\n",
    "# set paths\n",
    "dirpath = os.path.abspath(os.path.join(os.getcwd(), '..'))\n",
    "sys.path.append(dirpath)\n",
    "\n",
    "# my imports\n",
    "from models.SoSi_detection import SoSiDetectionModel  # noqa: E402\n",
    "from utils.plot_utils import unnormalize, voc_img_bbox_plot  # noqa: E402\n",
    "\n",
    "# the lifesaver\n",
    "%load_ext autoreload\n",
    "%autoreload 2\n",
    "\n",
    "# torch setup\n",
    "device = torch.device('cuda') if torch.cuda.is_available() else torch.device('cpu')"
   ]
  },
  {
   "cell_type": "markdown",
   "metadata": {},
   "source": [
    "#### Load the model:"
   ]
  },
  {
   "cell_type": "code",
   "execution_count": 2,
   "metadata": {},
   "outputs": [
    {
     "name": "stdout",
     "output_type": "stream",
     "text": [
      "<All keys matched successfully>\n"
     ]
    }
   ],
   "source": [
    "# load model\n",
    "model_path = 'models\\\\model_savepoints\\\\'\n",
    "model_file = 'p02_model_Feb-25_16-26-11.pth'\n",
    "model_path = os.path.join(dirpath, model_path, model_file)\n",
    "\n",
    "# build and load model\n",
    "model = SoSiDetectionModel()  \n",
    "sucess = model.load_state_dict(torch.load(model_path, map_location=device))\n",
    "print(sucess)\n",
    "model.to(device).eval();"
   ]
  },
  {
   "cell_type": "markdown",
   "metadata": {},
   "source": [
    "#### Get video file:"
   ]
  },
  {
   "cell_type": "code",
   "execution_count": 3,
   "metadata": {},
   "outputs": [],
   "source": [
    "video_file = os.path.join(dirpath, 'inference\\\\cats_wild.mp4')\n",
    "\n",
    "# video params\n",
    "video_h, video_w = 360, 640\n",
    "video_fps = 30\n",
    "\n",
    "# calculate end time and time jump for inference\n",
    "video_start_sec = 60*3\n",
    "video_end_sec = 60*5\n",
    "batch_size = 256 \n",
    "video_jump = batch_size / video_fps"
   ]
  },
  {
   "cell_type": "markdown",
   "metadata": {},
   "source": [
    "#### Define Transforms for inferences"
   ]
  },
  {
   "cell_type": "code",
   "execution_count": 4,
   "metadata": {},
   "outputs": [],
   "source": [
    "# get model transforms\n",
    "backbone_transforms = model.backbone_transforms()\n",
    "\n",
    "# pre-procesing transform\n",
    "preprocess = T.Compose([\n",
    "    # standard transforms - resizing and center cropping for 1:1 aspect ratio and 224 size\n",
    "    T.Resize(size = backbone_transforms.resize_size, interpolation = backbone_transforms.interpolation),\n",
    "    T.CenterCrop(size=backbone_transforms.crop_size),\n",
    "    \n",
    "    # standard transforms - normalizing\n",
    "    T.ToImage(),\n",
    "    T.ToDtype(torch.float32, scale=True),\n",
    "    T.Normalize(mean = backbone_transforms.mean, std = backbone_transforms.std)\n",
    "])\n",
    "\n",
    "# # post-processing transform\n",
    "postprocess_bbox = T.Compose([\n",
    "    # standard transforms - resize bbox to original\n",
    "    T.Resize(size = min(video_h, video_w)),\n",
    "])"
   ]
  },
  {
   "cell_type": "markdown",
   "metadata": {},
   "source": [
    "#### Video Inference loop"
   ]
  },
  {
   "cell_type": "code",
   "execution_count": 5,
   "metadata": {},
   "outputs": [],
   "source": [
    "video_frames = []\n",
    "video_current_start = video_start_sec\n",
    "\n",
    "# loop on frames\n",
    "while video_current_start < video_end_sec:\n",
    "    # read frames\n",
    "    frames, _ ,_  = read_video(filename = video_file, \n",
    "                                    start_pts = video_current_start, end_pts = min(video_current_start + video_jump, video_end_sec),\n",
    "                                    output_format=\"TCHW\", pts_unit = 'sec')\n",
    "    video_current_start += video_jump\n",
    "    frames = frames.to(device)\n",
    "    # if no frames read, break the loop\n",
    "    if frames.numel() == 0:  \n",
    "        break\n",
    "    # preprocess\n",
    "    frames_preproces = preprocess(frames).to(device)\n",
    "    # infer\n",
    "    pred_boxes, pred_labels_logits = model(frames_preproces)\n",
    "    # compute the labels\n",
    "    pred_labels_bools = torch.sigmoid(pred_labels_logits).squeeze().gt(0.5).tolist()\n",
    "    pred_labels_str = [\"cat\" if pred_label else \"none\" for pred_label in pred_labels_bools]\n",
    "    # unnormalize TODO Temporary!\n",
    "    frames_un_norm = unnormalize(frames_preproces).cpu()\n",
    "    # plot bbox on each frame\n",
    "    frames_boxes_list = [voc_img_bbox_plot(frames_un_norm[idx], pred_boxes[idx], [pred_labels_str[idx]]) for idx in range(len(frames))]\n",
    "    # take only the frames for which the label is not \"none\"\n",
    "    frames_selected = [(frames_un_norm[idx] * 255).to(torch.uint8) if pred_labels_bools[idx] is False else frames_boxes_list[idx] for idx in range(len(frames))]\n",
    "    # add to list of all frames\n",
    "    video_frames.extend(frames_selected)"
   ]
  },
  {
   "cell_type": "markdown",
   "metadata": {},
   "source": [
    "#### Video Output"
   ]
  },
  {
   "cell_type": "code",
   "execution_count": 6,
   "metadata": {},
   "outputs": [],
   "source": [
    "video_out_file = os.path.join(dirpath, f'inference\\\\cats_wild_sosi_{model_file[:-4]}.mp4')\n",
    "# write video\n",
    "video_output = torch.stack(video_frames).permute(0, 2, 3, 1).cpu()\n",
    "write_video(video_out_file, video_output, fps=video_fps, video_codec='libx264')"
   ]
  }
 ],
 "metadata": {
  "kernelspec": {
   "display_name": "custom_CatSemSeg",
   "language": "python",
   "name": "python3"
  },
  "language_info": {
   "codemirror_mode": {
    "name": "ipython",
    "version": 3
   },
   "file_extension": ".py",
   "mimetype": "text/x-python",
   "name": "python",
   "nbconvert_exporter": "python",
   "pygments_lexer": "ipython3",
   "version": "3.8.19"
  }
 },
 "nbformat": 4,
 "nbformat_minor": 2
}

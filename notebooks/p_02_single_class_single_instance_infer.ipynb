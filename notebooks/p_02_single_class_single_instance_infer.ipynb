{
 "cells": [
  {
   "cell_type": "code",
   "execution_count": 1,
   "metadata": {},
   "outputs": [],
   "source": [
    "import torch\n",
    "from torchvision.io import read_video\n",
    "from torchvision.transforms import v2 as T\n",
    "\n",
    "# paths\n",
    "import os\n",
    "import sys\n",
    "\n",
    "# set paths\n",
    "dirpath = os.path.abspath(os.path.join(os.getcwd(), '..'))\n",
    "sys.path.append(dirpath)\n",
    "\n",
    "# my imports\n",
    "from models.SoSi_detection import SoSiDetectionModel\n",
    "from utils.plot_utils import unnormalize, voc_img_bbox_plot\n",
    "\n",
    "# the lifesaver\n",
    "%load_ext autoreload\n",
    "%autoreload 2\n",
    "\n",
    "# torch setup\n",
    "device = torch.device('cuda') if torch.cuda.is_available() else torch.device('cpu')"
   ]
  },
  {
   "cell_type": "markdown",
   "metadata": {},
   "source": [
    "#### Load the model:"
   ]
  },
  {
   "cell_type": "code",
   "execution_count": 2,
   "metadata": {},
   "outputs": [
    {
     "name": "stdout",
     "output_type": "stream",
     "text": [
      "<All keys matched successfully>\n"
     ]
    }
   ],
   "source": [
    "# load model\n",
    "model_path = 'models\\\\model_savepoints\\\\'\n",
    "model_file = 'p2_model_Feb-19_18-09-20.pth'\n",
    "model_path = os.path.join(dirpath, model_path, model_file)\n",
    "\n",
    "# build and load model\n",
    "model = SoSiDetectionModel()  \n",
    "sucess = model.load_state_dict(torch.load(model_path, map_location=device))\n",
    "print(sucess)\n",
    "model.to(device).eval();"
   ]
  },
  {
   "cell_type": "markdown",
   "metadata": {},
   "source": [
    "#### Get video file:"
   ]
  },
  {
   "cell_type": "code",
   "execution_count": 3,
   "metadata": {},
   "outputs": [],
   "source": [
    "video_file = os.path.join(dirpath, 'inference\\\\kittens_video.mp4')\n",
    "\n",
    "# get video h, w\n",
    "video_h, video_w = 360, 640"
   ]
  },
  {
   "cell_type": "markdown",
   "metadata": {},
   "source": [
    "#### Define Transforms for inferences"
   ]
  },
  {
   "cell_type": "code",
   "execution_count": 4,
   "metadata": {},
   "outputs": [],
   "source": [
    "# get model transforms\n",
    "backbone_transforms = model.backbone_transforms()\n",
    "\n",
    "# pre-procesing transform\n",
    "preprocess = T.Compose([\n",
    "    # standard transforms - resizing and center cropping for 1:1 aspect ratio and 224 size\n",
    "    T.Resize(size = backbone_transforms.resize_size, interpolation = backbone_transforms.interpolation),\n",
    "    T.CenterCrop(size=backbone_transforms.crop_size),\n",
    "    \n",
    "    # standard transforms - normalizing\n",
    "    T.ToImage(),\n",
    "    T.ToDtype(torch.float32, scale=True),\n",
    "    T.Normalize(mean = backbone_transforms.mean, std = backbone_transforms.std)\n",
    "])\n",
    "\n",
    "# post-processing transform\n"
   ]
  },
  {
   "cell_type": "markdown",
   "metadata": {},
   "source": [
    "#### Video Inference loop"
   ]
  },
  {
   "cell_type": "code",
   "execution_count": 5,
   "metadata": {},
   "outputs": [],
   "source": [
    "# calculate end time and time jump\n",
    "video_end_sec = 1\n",
    "video_fps = 30\n",
    "batch_size = 128\n",
    "video_jump = batch_size / video_fps"
   ]
  },
  {
   "cell_type": "code",
   "execution_count": null,
   "metadata": {},
   "outputs": [
    {
     "name": "stdout",
     "output_type": "stream",
     "text": [
      "Value(False)\n"
     ]
    }
   ],
   "source": [
    "video_start_sec = 0\n",
    "video_frames = []\n",
    "\n",
    "# loop on frames\n",
    "while video_start_sec < video_end_sec:\n",
    "    # read frames\n",
    "    frames, _ ,_  = read_video(filename = video_file, \n",
    "                                    start_pts = video_start_sec, end_pts = min(video_start_sec + video_jump, video_end_sec),\n",
    "                                    output_format=\"TCHW\", pts_unit = 'sec')\n",
    "    frames = frames.to(device)\n",
    "    video_start_sec += video_jump\n",
    "    # if no frames read, break the loop\n",
    "    if frames.numel() == 0:  \n",
    "        break\n",
    "    # preprocess\n",
    "    frames_preproces = preprocess(frames)\n",
    "    # infer\n",
    "    preds = model(frames)\n",
    "    # TODO Rescale video etc\n",
    "    # plot bbox\n",
    "    frames_un_norm = unnormalize(frames_preproces)\n",
    "    frames_boxes = voc_img_bbox_plot(frames_un_norm, preds['boxes'], preds['labels'])\n",
    "    video_frames.append(frames_boxes)"
   ]
  },
  {
   "cell_type": "code",
   "execution_count": null,
   "metadata": {},
   "outputs": [],
   "source": [
    "# write video\n",
    "video_output = torch.stack(video_frames)\n",
    "torchvision.io.write_video()"
   ]
  }
 ],
 "metadata": {
  "kernelspec": {
   "display_name": "Python 3",
   "language": "python",
   "name": "python3"
  },
  "language_info": {
   "codemirror_mode": {
    "name": "ipython",
    "version": 3
   },
   "file_extension": ".py",
   "mimetype": "text/x-python",
   "name": "python",
   "nbconvert_exporter": "python",
   "pygments_lexer": "ipython3",
   "version": "3.8.19"
  }
 },
 "nbformat": 4,
 "nbformat_minor": 2
}

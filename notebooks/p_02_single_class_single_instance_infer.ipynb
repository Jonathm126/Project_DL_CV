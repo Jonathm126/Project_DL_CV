{
 "cells": [
  {
   "cell_type": "code",
   "execution_count": null,
   "metadata": {},
   "outputs": [],
   "source": [
    "import torch\n",
    "import cv2\n",
    "import numpy as np\n",
    "from torchvision.io import read_video\n",
    "from torchvision.transforms import v2 as T\n",
    "from torchvision.utils import draw_bounding_boxes\n",
    "\n",
    "\n",
    "# paths\n",
    "import os\n",
    "import sys\n",
    "\n",
    "# set paths\n",
    "dirpath = os.path.abspath(os.path.join(os.getcwd(), '..'))\n",
    "sys.path.append(dirpath)\n",
    "\n",
    "# my imports\n",
    "from models.SoSi_detection import SoSiDetectionModel  # noqa: E402\n",
    "from utils.plot_utils import inverse_transform_bbox  # noqa: E402\n",
    "\n",
    "\n",
    "# the lifesaver\n",
    "%load_ext autoreload\n",
    "%autoreload 2\n",
    "\n",
    "# torch setup\n",
    "device = torch.device('cuda') if torch.cuda.is_available() else torch.device('cpu')"
   ]
  },
  {
   "cell_type": "markdown",
   "metadata": {},
   "source": [
    "#### Load the model:"
   ]
  },
  {
   "cell_type": "code",
   "execution_count": 2,
   "metadata": {},
   "outputs": [
    {
     "name": "stdout",
     "output_type": "stream",
     "text": [
      "<All keys matched successfully>\n"
     ]
    }
   ],
   "source": [
    "# load model\n",
    "model_path = 'models\\\\model_savepoints\\\\'\n",
    "model_file = 'p02_model_Mar-02_20-47-57.pth'\n",
    "# model_file = 'p02_model_Mar-04_11-51-35.pth'\n",
    "model_path = os.path.join(dirpath, model_path, model_file)\n",
    "\n",
    "# build and load model\n",
    "model = SoSiDetectionModel(final_head_conv_depth = 128)  \n",
    "sucess = model.load_state_dict(torch.load(model_path, map_location=device))\n",
    "print(sucess)\n",
    "model.to(device).eval();"
   ]
  },
  {
   "cell_type": "markdown",
   "metadata": {},
   "source": [
    "#### Get video file:"
   ]
  },
  {
   "cell_type": "code",
   "execution_count": 3,
   "metadata": {},
   "outputs": [],
   "source": [
    "# vid_name = 'kittens_video.mp4'\n",
    "vid_name = 'cats_wild.mp4'"
   ]
  },
  {
   "cell_type": "code",
   "execution_count": 4,
   "metadata": {},
   "outputs": [],
   "source": [
    "video_file = os.path.join(dirpath, f'inference\\\\{vid_name}')\n",
    "video_out_file = os.path.join(dirpath, f'inference\\\\{vid_name[:-4]}_{model_file[:-4]}.mp4')\n",
    "\n",
    "# video params\n",
    "video_h, video_w = 360, 640\n",
    "video_fps = 30\n",
    "\n",
    "# calculate end time and time jump for inference\n",
    "video_start_sec = 0\n",
    "video_end_sec = 60*3\n",
    "batch_size = 256 \n",
    "video_jump = batch_size / video_fps"
   ]
  },
  {
   "cell_type": "markdown",
   "metadata": {},
   "source": [
    "Build video writer:"
   ]
  },
  {
   "cell_type": "code",
   "execution_count": 5,
   "metadata": {},
   "outputs": [],
   "source": [
    "fourcc = cv2.VideoWriter_fourcc(*'mp4v')\n",
    "video_writer = cv2.VideoWriter(video_out_file, fourcc, video_fps, (video_w, video_h))"
   ]
  },
  {
   "cell_type": "markdown",
   "metadata": {},
   "source": [
    "#### Define Transforms for inferences"
   ]
  },
  {
   "cell_type": "code",
   "execution_count": 6,
   "metadata": {},
   "outputs": [],
   "source": [
    "# get model transforms\n",
    "backbone_transforms = model.backbone_transforms()\n",
    "\n",
    "# pre-procesing transform\n",
    "preprocess = T.Compose([\n",
    "    # standard transforms - resizing and center cropping for 1:1 aspect ratio and 224 size\n",
    "    T.Resize(size = backbone_transforms.resize_size, interpolation = backbone_transforms.interpolation),\n",
    "    T.CenterCrop(size=backbone_transforms.crop_size),\n",
    "    \n",
    "    # standard transforms - normalizing\n",
    "    T.ToImage(),\n",
    "    T.ToDtype(torch.float32, scale=True),\n",
    "    T.Normalize(mean = backbone_transforms.mean, std = backbone_transforms.std)\n",
    "])"
   ]
  },
  {
   "cell_type": "code",
   "execution_count": 7,
   "metadata": {},
   "outputs": [],
   "source": [
    "cutoff = 0.3"
   ]
  },
  {
   "cell_type": "code",
   "execution_count": 8,
   "metadata": {},
   "outputs": [],
   "source": [
    "video_current_start = video_start_sec\n",
    "\n",
    "# loop on frames\n",
    "while video_current_start < video_end_sec:\n",
    "    # read frames\n",
    "    frames, _ ,_  = read_video(filename = video_file, \n",
    "                                    start_pts = video_current_start, end_pts = min(video_current_start + video_jump, video_end_sec),\n",
    "                                    output_format=\"TCHW\", pts_unit = 'sec')\n",
    "    video_current_start += video_jump\n",
    "    frames = frames.to(device)\n",
    "    \n",
    "    # if no frames read, break the loop\n",
    "    if frames.numel() == 0:  \n",
    "        break\n",
    "    \n",
    "    # preprocess\n",
    "    frames_preproces = preprocess(frames).to(device)\n",
    "    \n",
    "    # infer\n",
    "    pred_boxes, pred_labels_logits = model(frames_preproces)\n",
    "    \n",
    "    # compute the labels\n",
    "    confidences = torch.sigmoid(pred_labels_logits).squeeze()\n",
    "    pred_labels_str = [\n",
    "            f\"cat {conf:.2f}\" if conf > 0.3 else \"none\"\n",
    "            for conf in confidences.tolist()\n",
    "        ]\n",
    "    \n",
    "    # scale the bbox to video scale\n",
    "    bbox_resized = inverse_transform_bbox(pred_boxes, video_w, video_h)\n",
    "    \n",
    "    # append all frames and write to disk\n",
    "    for idx in range(len(frames)):\n",
    "        # false label - do not print\n",
    "        if confidences[idx] <= cutoff:  \n",
    "            video_frame = frames[idx].cpu()\n",
    "            \n",
    "        # true label - print bbox\n",
    "        else:\n",
    "            image_with_boxes = draw_bounding_boxes(frames[idx], bbox_resized[idx,:], fill=False, colors=\"red\", width=3, \n",
    "                                            labels=[pred_labels_str[idx]], font_size=25, font='verdana.ttf')\n",
    "            # frame_with_bbox_pil = F.to_pil_image(image_with_boxes)\n",
    "            video_frame = (image_with_boxes)\n",
    "        \n",
    "        # convert it to a NumPy array with shape [H, W, C]\n",
    "        frame_np = video_frame.permute(1, 2, 0).cpu().numpy()\n",
    "        \n",
    "        # convert to bgr\n",
    "        frame_np = frame_np[..., [2, 1, 0]]\n",
    "        \n",
    "        # if frame is normalized, convert to uint8\n",
    "        if frame_np.dtype != np.uint8:\n",
    "            frame_np = (255 * frame_np).clip(0, 255).astype(np.uint8)\n",
    "        \n",
    "        # Write the frame to the video file.\n",
    "        video_writer.write(frame_np)\n",
    "\n",
    "video_writer.release()"
   ]
  },
  {
   "cell_type": "markdown",
   "metadata": {},
   "source": [
    "#### Video Output"
   ]
  }
 ],
 "metadata": {
  "kernelspec": {
   "display_name": "Python 3",
   "language": "python",
   "name": "python3"
  },
  "language_info": {
   "codemirror_mode": {
    "name": "ipython",
    "version": 3
   },
   "file_extension": ".py",
   "mimetype": "text/x-python",
   "name": "python",
   "nbconvert_exporter": "python",
   "pygments_lexer": "ipython3",
   "version": "3.8.19"
  }
 },
 "nbformat": 4,
 "nbformat_minor": 2
}

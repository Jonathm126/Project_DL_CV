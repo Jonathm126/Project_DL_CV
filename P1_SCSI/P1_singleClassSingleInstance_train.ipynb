{
 "cells": [
  {
   "cell_type": "code",
   "execution_count": null,
   "metadata": {},
   "outputs": [
    {
     "name": "stdout",
     "output_type": "stream",
     "text": [
      "The autoreload extension is already loaded. To reload it, use:\n",
      "  %reload_ext autoreload\n"
     ]
    }
   ],
   "source": [
    "import torch\n",
    "import torchvision\n",
    "import sklearn\n",
    "\n",
    "# paths\n",
    "import os\n",
    "import sys\n",
    "\n",
    "# set paths\n",
    "sys.path.append(os.path.abspath(os.path.join(os.getcwd(), '..')))\n",
    "import config\n",
    "\n",
    "# my imports\n",
    "from data.VOC_subset import VOCSubset\n",
    "from utils import bbox_utils\n",
    "\n",
    "# the lifesaver\n",
    "%load_ext autoreload\n",
    "%autoreload 2"
   ]
  },
  {
   "cell_type": "markdown",
   "metadata": {},
   "source": [
    "#### P1 - Single Class, Single Instance\n",
    "In this part we will train a detector for a single class, single instance per image.\n",
    "We will start by loading the `subset` dataset with the single class `cat` and splitting for train and validation. Since we have only ~1000 images we won't split into 3 (test)."
   ]
  },
  {
   "cell_type": "code",
   "execution_count": null,
   "metadata": {},
   "outputs": [],
   "source": [
    "# define the selected class, and load the index file\n",
    "selected_class_name = \"cat\"  \n",
    "indices_file = f\"..\\\\data\\\\VOC_{selected_class_name}_selected_indices.pth\""
   ]
  },
  {
   "cell_type": "code",
   "execution_count": null,
   "metadata": {},
   "outputs": [],
   "source": [
    "trainDataset = VOCSubset(\n",
    "    root=config.dataset_path,\n",
    "    indices_file = indices_file, \n",
    "    selected_class = selected_class_name,\n",
    "    single_object = True,\n",
    "    transform = torchvision.transforms.ToTensor()\n",
    ")\n",
    "\n",
    "valDataset = VOCSubset(\n",
    "    root=config.dataset_path,\n",
    "    indices_file = indices_file, \n",
    "    selected_class = selected_class_name,\n",
    "    single_object = True,\n",
    "    transform = torchvision.transforms.ToTensor()\n",
    ")"
   ]
  },
  {
   "cell_type": "markdown",
   "metadata": {},
   "source": [
    "TODO - finish the dataset split. define different augmentations for train and valid. "
   ]
  },
  {
   "cell_type": "code",
   "execution_count": null,
   "metadata": {},
   "outputs": [],
   "source": [
    "split = [0.7, 0.3]\n",
    "train_indices, val_indices = sklearn.model_selection.train_test_split(indices)\n",
    "train_dataset = torch.utils.data.Subset(trainDataset, train_indices)\n",
    "val_dataset = torch.utils.data.Subset(valDataset, val_indices)"
   ]
  },
  {
   "cell_type": "code",
   "execution_count": 22,
   "metadata": {},
   "outputs": [
    {
     "ename": "AttributeError",
     "evalue": "'Subset' object has no attribute 'transform'",
     "output_type": "error",
     "traceback": [
      "\u001b[1;31m---------------------------------------------------------------------------\u001b[0m",
      "\u001b[1;31mAttributeError\u001b[0m                            Traceback (most recent call last)",
      "Cell \u001b[1;32mIn[22], line 1\u001b[0m\n\u001b[1;32m----> 1\u001b[0m \u001b[43mtrain_dataset\u001b[49m\u001b[38;5;241;43m.\u001b[39;49m\u001b[43mtransform\u001b[49m\n",
      "\u001b[1;31mAttributeError\u001b[0m: 'Subset' object has no attribute 'transform'"
     ]
    }
   ],
   "source": [
    "train_dataset.transform"
   ]
  }
 ],
 "metadata": {
  "kernelspec": {
   "display_name": "custom_CatSemSeg",
   "language": "python",
   "name": "python3"
  },
  "language_info": {
   "codemirror_mode": {
    "name": "ipython",
    "version": 3
   },
   "file_extension": ".py",
   "mimetype": "text/x-python",
   "name": "python",
   "nbconvert_exporter": "python",
   "pygments_lexer": "ipython3",
   "version": "3.8.19"
  }
 },
 "nbformat": 4,
 "nbformat_minor": 2
}
